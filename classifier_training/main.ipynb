{
 "cells": [
  {
   "cell_type": "code",
   "execution_count": 1,
   "metadata": {
    "collapsed": true
   },
   "outputs": [],
   "source": [
    "import os\n",
    "os.environ['CUDA_LAUNCH_BLOCKING'] = '1'\n",
    "\n",
    "# The pre-trained roberta-based detector may only works w/\n",
    "# - Huggingface version 2.9.1 (i.e., ```transformers==2.9.1```)\n",
    "# - ```tokenizers==0.7.0```\n",
    "# !pip install transformers==2.9.1\n",
    "\n",
    "'''\n",
    "~~~About Checkpoints~~~\n",
    "base.pt is the most accurate checkpoint\n",
    "base_1.pt is the latest checkpoint\n",
    "'''\n",
    "import numpy\n",
    "\n",
    "FROM_CHECKPOINT = False\n",
    "CHECKPOINTNAME = \"\"\n",
    "\n",
    "import os\n",
    "import csv\n",
    "import time\n",
    "import tqdm\n",
    "# from tqdm.notebook import trange\n",
    "from tqdm import trange\n",
    "import math\n",
    "import numpy as np\n",
    "import torch\n",
    "from torch import nn, optim\n",
    "from transformers import RobertaForSequenceClassification, RobertaTokenizer\n",
    "\n",
    "import utils as U\n",
    "\n",
    "import sys\n",
    "\n",
    "# setting path\n",
    "sys.path.append('..')\n",
    "\n",
    "from mutation_miniframework.Dataset import *\n",
    "from mutation_miniframework.operators import deleteRandomArticle, replaceLetters, replaceFromDictionary, \\\n",
    "\treplaceWordListWithRandomSelf\n",
    "\n",
    "misspellings = U.loadJSONWordDictionary(\"../mutation_miniframework/mutation_data/misspellings.json\")\n",
    "antonyms = U.loadJSONWordDictionary(\"../mutation_miniframework/mutation_data/antonyms.json\")\n",
    "synonyms = U.loadJSONWordDictionary(\"../mutation_miniframework/mutation_data/misspellings.json\")\n",
    "randomList = []\n",
    "with open(\"../mutation_miniframework/mutation_data/random_word.json\") as randomJSON:\n",
    "    randomBuffer = dict(json.load(randomJSON))\n",
    "    randomList = randomBuffer[\"word\"]\n",
    "\n",
    "project_data_path = \"./test\"\n",
    "\n",
    "text_data_path = os.path.join(project_data_path, 'data_10k', 'Parsed')\n",
    "human_text_dir = os.path.join(text_data_path, 'train_val_test/human')\n",
    "human_mutation_text_dir = os.path.join(text_data_path, 'train_val_test/mutation_human')\n",
    "synthetic_text_dir = os.path.join(text_data_path, 'train_val_test/synthetic')\n",
    "synthetic_mutation_text_dir = os.path.join(text_data_path, 'train_val_test/mutation_synthetic')\n",
    "text_file_human_mutation = 'WikiHumanMutationFullSet.json'\n",
    "text_file_human = 'WikiHumanFullSet.json'\n",
    "text_file_synthetic = 'WikiChatGPTSyntheticFullSet.json'\n",
    "text_file_synthetic_mutation = 'WikiChatGPTSyntheticMutationFullSet.json'"
   ]
  },
  {
   "cell_type": "code",
   "execution_count": 2,
   "outputs": [],
   "source": [
    "ckpt_dir = os.path.join(project_data_path, \"ckpt\")\n",
    "output_path = os.path.join(ckpt_dir, \"Ternary-Custom-Detector\")\n",
    "if(not os.path.exists(output_path)):\n",
    "    print(\"Making Dir...\\n\\t%s\" %output_path)\n",
    "    os.makedirs(output_path)\n",
    "\n",
    "roberta_detector_ckpt_dir = os.path.join(ckpt_dir, 'RoBERTa-Based-Detector')\n",
    "roberta_detector_ckpt_name = 'detector-large.pt'\n",
    "roberta_detector_ckpt_path = os.path.join(roberta_detector_ckpt_dir,\n",
    "                                          roberta_detector_ckpt_name)\n",
    "roberta_detector_ckpt_url = 'https://openaipublic.azureedge.net/gpt-2/detector-models/v1/detector-large.pt'\n",
    "\n",
    "# Download RoBERTa-based Detector ckpt if needed\n",
    "if (not os.path.exists(roberta_detector_ckpt_path)):\n",
    "    if(not os.path.exists(roberta_detector_ckpt_dir)):\n",
    "        print(\"Making Dir...\\n\\t%s\" %roberta_detector_ckpt_dir)\n",
    "        os.makedirs(roberta_detector_ckpt_dir)\n",
    "    U.download_roberta_ckpt(roberta_detector_ckpt_url,\n",
    "                            roberta_detector_ckpt_path)\n",
    "\n",
    "# Load data\n",
    "#[img name, captions, label]\n",
    "train_data = U.load_data(human_text_dir, text_file_human,\n",
    "                         human_mutation_text_dir, text_file_human_mutation,\n",
    "                         synthetic_text_dir, text_file_synthetic,\n",
    "                         synthetic_mutation_text_dir, text_file_synthetic_mutation,\n",
    "                         train_test_split='train')\n",
    "val_data = U.load_data(human_text_dir, text_file_human,\n",
    "                       human_mutation_text_dir, text_file_human_mutation,\n",
    "                       synthetic_text_dir, text_file_synthetic,\n",
    "                       synthetic_mutation_text_dir, text_file_synthetic_mutation,\n",
    "                       train_test_split='val')\n",
    "test_data = U.load_data(human_text_dir, text_file_human,\n",
    "                        human_mutation_text_dir, text_file_human_mutation,\n",
    "                        synthetic_text_dir, text_file_synthetic,\n",
    "                        synthetic_mutation_text_dir, text_file_synthetic_mutation,\n",
    "                        train_test_split='test')"
   ],
   "metadata": {
    "collapsed": false
   }
  },
  {
   "cell_type": "code",
   "execution_count": 3,
   "outputs": [
    {
     "name": "stderr",
     "output_type": "stream",
     "text": [
      "  0%|          | 0/10 [00:00<?, ?it/s]"
     ]
    }
   ],
   "source": [
    "# set hyperparameters\n",
    "batch_size = 1\n",
    "epochs = 10\n",
    "learning_rate = 0.0001\n",
    "finetune_embeddings = False\n",
    "device = \"cuda\" if torch.cuda.is_available() else \"cpu\"\n",
    "\n",
    "# Initiate pre-trained RoBERTa-based Detector\n",
    "ckpt = None\n",
    "if FROM_CHECKPOINT is True:\n",
    "    ckpt = torch.load(os.path.join(output_path, CHECKPOINTNAME))\n",
    "else:\n",
    "    ckpt = torch.load(roberta_detector_ckpt_path) # checkpoint for pre-trained reberta detector, replace here with path.\n",
    "model = RobertaForSequenceClassification.from_pretrained('roberta-large')\n",
    "tokenizer = RobertaTokenizer.from_pretrained('roberta-large')\n",
    "\n",
    "if FROM_CHECKPOINT is True:\n",
    "    model.load_state_dict(ckpt)#Only do ckpt when loading\n",
    "else:\n",
    "    model.load_state_dict(ckpt['model_state_dict'])#Only do ckpt when loading\n",
    "model = model.to(device)\n",
    "model.classifier.out_proj = nn.Linear(1024, 4, bias=True)\n",
    "\n",
    "# Freeze roberta weights (i.e., the embedding weights)\n",
    "# leave the classifier tunable\n",
    "for p in model.roberta.parameters():\n",
    "    p.requires_grad = finetune_embeddings\n",
    "\n",
    "\n",
    "\n",
    "BCE = nn.BCELoss()\n",
    "loss_function = nn.CrossEntropyLoss()\n",
    "optimizer = optim.SGD(model.parameters(), lr=learning_rate, momentum=0.9)\n",
    "\n",
    "## Train Loop ##\n",
    "t = trange(epochs, desc=\"\", position=0, leave=True)\n",
    "\n",
    "phases = [\"train\", \"val\"]\n",
    "best_val_acc = 0\n",
    "best_epoch = 0\n",
    "train_hist = []\n",
    "val_hist = []"
   ],
   "metadata": {
    "collapsed": false
   }
  },
  {
   "cell_type": "code",
   "execution_count": 4,
   "outputs": [
    {
     "name": "stderr",
     "output_type": "stream",
     "text": [
      "Epoch/Step: 0/47600[Phase:val]  Loss:0.5178  CorrectPred:0.7801 [37134/47601]:   0%|          | 0/10 [5:47:29<?, ?it/s]     "
     ]
    },
    {
     "name": "stdout",
     "output_type": "stream",
     "text": [
      "Epoch:0 Acc:0.7798 higher than the previous best performance\n",
      "Saving ckpt...\n"
     ]
    },
    {
     "name": "stderr",
     "output_type": "stream",
     "text": [
      "Epoch/Step: 0/47600[Phase:val]  Loss:0.5178  CorrectPred:0.7801 [37134/47601]:  10%|█         | 1/10 [5:47:38<52:08:45, 20858.43s/it]"
     ]
    },
    {
     "name": "stdout",
     "output_type": "stream",
     "text": [
      "\n",
      "Epoch:0   Train Loss/Acc: 0.7369/0.6885   Val Loss/ACC 0.5452/0.7798\n"
     ]
    },
    {
     "name": "stderr",
     "output_type": "stream",
     "text": [
      "Epoch/Step: 1/47600[Phase:val]  Loss:0.8733  CorrectPred:0.7658 [36453/47601]:  20%|██        | 2/10 [11:22:50<45:51:17, 20634.65s/it]      "
     ]
    },
    {
     "name": "stdout",
     "output_type": "stream",
     "text": [
      "\n",
      "Epoch:1   Train Loss/Acc: 0.6057/0.7511   Val Loss/ACC 0.5723/0.7655\n"
     ]
    },
    {
     "name": "stderr",
     "output_type": "stream",
     "text": [
      "Epoch/Step: 2/47600[Phase:val]  Loss:0.6104  CorrectPred:0.7804 [37148/47601]:  20%|██        | 2/10 [16:45:28<45:51:17, 20634.65s/it]     "
     ]
    },
    {
     "name": "stdout",
     "output_type": "stream",
     "text": [
      "Epoch:2 Acc:0.7800 higher than the previous best performance\n",
      "Saving ckpt...\n"
     ]
    },
    {
     "name": "stderr",
     "output_type": "stream",
     "text": [
      "Epoch/Step: 2/47600[Phase:val]  Loss:0.6104  CorrectPred:0.7804 [37148/47601]:  30%|███       | 3/10 [16:45:35<39:22:56, 20253.76s/it]"
     ]
    },
    {
     "name": "stdout",
     "output_type": "stream",
     "text": [
      "\n",
      "Epoch:2   Train Loss/Acc: 0.5741/0.7632   Val Loss/ACC 0.5656/0.7800\n"
     ]
    },
    {
     "name": "stderr",
     "output_type": "stream",
     "text": [
      "Epoch/Step: 3/47600[Phase:val]  Loss:0.4821  CorrectPred:0.8192 [38993/47601]:  30%|███       | 3/10 [22:18:51<39:22:56, 20253.76s/it]     "
     ]
    },
    {
     "name": "stdout",
     "output_type": "stream",
     "text": [
      "Epoch:3 Acc:0.8190 higher than the previous best performance\n",
      "Saving ckpt...\n"
     ]
    },
    {
     "name": "stderr",
     "output_type": "stream",
     "text": [
      "Epoch/Step: 3/47600[Phase:val]  Loss:0.4821  CorrectPred:0.8192 [38993/47601]:  40%|████      | 4/10 [22:18:59<33:37:51, 20178.65s/it]"
     ]
    },
    {
     "name": "stdout",
     "output_type": "stream",
     "text": [
      "\n",
      "Epoch:3   Train Loss/Acc: 0.5545/0.7727   Val Loss/ACC 0.4731/0.8190\n"
     ]
    },
    {
     "name": "stderr",
     "output_type": "stream",
     "text": [
      "Epoch/Step: 4/47600[Phase:val]  Loss:0.3820  CorrectPred:0.8128 [38692/47601]:  50%|█████     | 5/10 [28:01:50<28:11:21, 20296.29s/it]     "
     ]
    },
    {
     "name": "stdout",
     "output_type": "stream",
     "text": [
      "\n",
      "Epoch:4   Train Loss/Acc: 0.5421/0.7778   Val Loss/ACC 0.4649/0.8126\n"
     ]
    },
    {
     "name": "stderr",
     "output_type": "stream",
     "text": [
      "Epoch/Step: 5/47600[Phase:val]  Loss:0.0667  CorrectPred:0.8061 [38372/47601]:  60%|██████    | 6/10 [33:41:03<22:34:13, 20313.50s/it]     "
     ]
    },
    {
     "name": "stdout",
     "output_type": "stream",
     "text": [
      "\n",
      "Epoch:5   Train Loss/Acc: 0.5286/0.7839   Val Loss/ACC 0.4623/0.8060\n"
     ]
    },
    {
     "name": "stderr",
     "output_type": "stream",
     "text": [
      "Epoch/Step: 6/47600[Phase:val]  Loss:0.3910  CorrectPred:0.8488 [40406/47601]:  60%|██████    | 6/10 [39:06:40<22:34:13, 20313.50s/it]     "
     ]
    },
    {
     "name": "stdout",
     "output_type": "stream",
     "text": [
      "Epoch:6 Acc:0.8485 higher than the previous best performance\n",
      "Saving ckpt...\n"
     ]
    },
    {
     "name": "stderr",
     "output_type": "stream",
     "text": [
      "Epoch/Step: 6/47600[Phase:val]  Loss:0.3910  CorrectPred:0.8488 [40406/47601]:  70%|███████   | 7/10 [39:06:48<16:44:08, 20082.92s/it]"
     ]
    },
    {
     "name": "stdout",
     "output_type": "stream",
     "text": [
      "\n",
      "Epoch:6   Train Loss/Acc: 0.5179/0.7875   Val Loss/ACC 0.3869/0.8485\n"
     ]
    },
    {
     "name": "stderr",
     "output_type": "stream",
     "text": [
      "Epoch/Step: 7/47600[Phase:val]  Loss:0.3307  CorrectPred:0.8385 [39914/47601]:  80%|████████  | 8/10 [44:38:59<11:07:54, 20037.33s/it]     "
     ]
    },
    {
     "name": "stdout",
     "output_type": "stream",
     "text": [
      "\n",
      "Epoch:7   Train Loss/Acc: 0.5131/0.7897   Val Loss/ACC 0.4171/0.8383\n"
     ]
    },
    {
     "name": "stderr",
     "output_type": "stream",
     "text": [
      "Epoch/Step: 8/47600[Phase:val]  Loss:0.2674  CorrectPred:0.8417 [40065/47601]:  90%|█████████ | 9/10 [50:15:37<5:34:45, 20085.61s/it]      "
     ]
    },
    {
     "name": "stdout",
     "output_type": "stream",
     "text": [
      "\n",
      "Epoch:8   Train Loss/Acc: 0.5092/0.7920   Val Loss/ACC 0.4058/0.8414\n"
     ]
    },
    {
     "name": "stderr",
     "output_type": "stream",
     "text": [
      "Epoch/Step: 9/47600[Phase:val]  Loss:0.5388  CorrectPred:0.8304 [39530/47601]: 100%|██████████| 10/10 [56:13:54<00:00, 20508.90s/it]      "
     ]
    },
    {
     "name": "stdout",
     "output_type": "stream",
     "text": [
      "\n",
      "Epoch:9   Train Loss/Acc: 0.5038/0.7951   Val Loss/ACC 0.4368/0.8300\n"
     ]
    },
    {
     "name": "stderr",
     "output_type": "stream",
     "text": [
      "Epoch/Step: 9/47600[Phase:val]  Loss:0.5388  CorrectPred:0.8304 [39530/47601]: 100%|██████████| 10/10 [56:13:54<00:00, 20243.48s/it]\n"
     ]
    }
   ],
   "source": [
    "from random import randrange\n",
    "for e in t:\n",
    "    model.to(device)\n",
    "    for phase in phases:\n",
    "\n",
    "        ## Initialization ##\n",
    "        if phase == \"train\":\n",
    "            model.train()\n",
    "            data = np.array(train_data)\n",
    "            np.random.shuffle(data)\n",
    "        else:\n",
    "            model.eval()\n",
    "            data = np.array(val_data)\n",
    "\n",
    "        epoch_loss = 0\n",
    "        epoch_correct_pred = 0\n",
    "        step_per_epoch = math.floor(len(data) / batch_size)\n",
    "\n",
    "        ## Train/Val Loop ##\n",
    "        for i in range(step_per_epoch):\n",
    "            # Load one batch of data\n",
    "            # batch size might have to be 1 due to varying caption length\n",
    "            cur_data = data[i*batch_size:(i+1)*batch_size]\n",
    "            cur_names = cur_data[:,0]\n",
    "            cur_captions = cur_data[:,1]#TODO: Adjust for extra dimension, captions and labels\n",
    "            cur_labels = cur_data[:,2].astype(np.int8)#Human Mutation is 0, real is 1, synthetic is 2, mutated synthetic is 3\n",
    "\n",
    "            # Generate mutation\n",
    "            # if need to generate mutation, add code here\n",
    "            # print(\"DATA \" + str(cur_data))\n",
    "            dataDict = {}\n",
    "            if phase == \"train\" and cur_labels == 0 or cur_labels == 3:\n",
    "                dataDict[0] = [str(cur_data[:,1])]\n",
    "                choice = randrange(0, 6)\n",
    "                mutatedCaptionData = Dataset(dataDict, [\"\"])\n",
    "                if choice == 0:\n",
    "                    deleteRandomArticle(mutatedCaptionData, [\" a \", \" an \", \" the \"], \"\", word_change_limit=99)\n",
    "                if choice == 1:\n",
    "                    replaceLetters(mutatedCaptionData, {\n",
    "                        \"a\": \"α\",\n",
    "                        \"e\": \"ε\"\n",
    "                    }, \"\", word_change_limit=6)\n",
    "                if choice == 2:\n",
    "                    replaceFromDictionary(mutatedCaptionData, misspellings, \"\", word_change_limit=5)\n",
    "                if choice == 3:#random word replacement\n",
    "                    replaceWordListWithRandomSelf(mutatedCaptionData, randomList, \"\", word_change_limit=5)\n",
    "                if choice == 4:#synonyms replacement\n",
    "                    replaceFromDictionary(mutatedCaptionData, synonyms, \"\", word_change_limit=5)\n",
    "                if choice == 5:#antonyms replacement\n",
    "                    replaceFromDictionary(mutatedCaptionData, antonyms, \"\", word_change_limit=5)\n",
    "                if choice == 6:\n",
    "                    pass\n",
    "                # print(f'{choice} MUTATION {mutatedCaptionData[0][0]}' )\n",
    "                cur_data[:,1] = mutatedCaptionData[0][0]\n",
    "                cur_captions = cur_data[:,1]\n",
    "            # print(str(choice) + \":\" + str(cur_data[:,1][0]))\n",
    "\n",
    "            # Tokenize captions\n",
    "            cur_token_ids = [tokenizer.encode(item) for item in cur_captions]\n",
    "            cur_masks = [np.ones(len(item)) for item in cur_token_ids]\n",
    "\n",
    "            # Convert to tensor and send data to device\n",
    "            cur_token_ids = torch.tensor(np.array(cur_token_ids)).to(device)\n",
    "            cur_labels = torch.tensor(np.array(cur_labels)).long().to(device)\n",
    "            cur_masks = torch.tensor(np.array(cur_masks)).to(device)\n",
    "\n",
    "            # For training\n",
    "            if(phase == \"train\"):\n",
    "                optimizer.zero_grad()\n",
    "                logits = model(cur_token_ids, attention_mask=cur_masks)\n",
    "                loss = loss_function(logits[0], cur_labels)\n",
    "                loss.backward()\n",
    "                optimizer.step()\n",
    "            # scheduler may be needed in the future\n",
    "\n",
    "            # For validation\n",
    "            else:\n",
    "                with torch.no_grad():\n",
    "                    logits = model(cur_token_ids, attention_mask=cur_masks)\n",
    "                    loss = loss_function(logits[0], cur_labels)\n",
    "\n",
    "            # Track current performance\n",
    "            # Count correct prediciton\n",
    "            for kk in range(len(cur_labels)):\n",
    "                prob = logits[0][kk].softmax(dim=-1)\n",
    "                pred = torch.argmax(prob.detach().cpu())\n",
    "                if(pred==cur_labels[kk]):\n",
    "                    epoch_correct_pred +=  1.0\n",
    "            # Add current loss to total epoch loss\n",
    "            epoch_loss += loss.item()\n",
    "\n",
    "            # Update progress bar\n",
    "            if i % 100 == 0:\n",
    "                t.set_description(\"Epoch/Step: %i/%i[Phase:%s]  Loss:%.4f  CorrectPred:%.4f [%i/%i]\"\n",
    "                              % (e, i, phase, loss.item(), epoch_correct_pred/(i+1), epoch_correct_pred, (i+1)))\n",
    "\n",
    "\n",
    "        ## Compute epoch performance ##\n",
    "        epoch_acc = epoch_correct_pred / (step_per_epoch * batch_size)\n",
    "        epoch_loss = epoch_loss / step_per_epoch\n",
    "\n",
    "        if(phase==\"train\"):\n",
    "            train_hist.append([epoch_loss, epoch_acc])\n",
    "            np.save(os.path.join(output_path,\"train_hist.npy\"),\n",
    "                    np.asarray(train_hist))\n",
    "\n",
    "        else:\n",
    "            val_hist.append([epoch_loss, epoch_acc])\n",
    "            np.save(os.path.join(output_path,\"val_hist.npy\"),\n",
    "                    np.asarray(val_hist))\n",
    "\n",
    "        if(phase == \"val\"):\n",
    "            if(epoch_acc>best_val_acc):\n",
    "                best_val_acc = epoch_acc\n",
    "                best_epoch = e\n",
    "                print(\"Epoch:%d Acc:%.4f higher than the previous best performance\"\n",
    "                      %(e, best_val_acc))\n",
    "                print(\"Saving ckpt...\")\n",
    "                # save the CKPT\n",
    "                torch.save(model.cpu().state_dict(),\n",
    "                           os.path.join(output_path,\"base.pt\"))\n",
    "\n",
    "    print(\"\\nEpoch:%d   Train Loss/Acc: %.4f/%.4f   Val Loss/ACC %.4f/%.4f\"\n",
    "          %(e, train_hist[e][0], train_hist[e][1], val_hist[e][0], val_hist[e][1]))\n",
    "\n",
    "torch.save(model.cpu().state_dict(),\n",
    "           os.path.join(output_path,\"base_\"+str(e)+\".pt\"))"
   ],
   "metadata": {
    "collapsed": false
   }
  },
  {
   "cell_type": "code",
   "execution_count": 6,
   "outputs": [
    {
     "data": {
      "text/plain": "<Figure size 720x720 with 1 Axes>",
      "image/png": "[encoded data removed]"
     },
     "metadata": {
      "needs_background": "light"
     },
     "output_type": "display_data"
    }
   ],
   "source": [
    "import matplotlib.ticker as mtick\n",
    "import matplotlib.pyplot as plt\n",
    "\n",
    "fig, ((ax1)) = plt.subplots(1, 1, figsize=(10, 10))\n",
    "ax1.plot([train_hist[e][1]*100 for e in range(epochs)], color='yellow')\n",
    "ax1.plot([val_hist[e][1]*100 for e in range(epochs)], color='green')\n",
    "ax1.set_xticks([x for x in range(0, epochs, 1)])\n",
    "ax1.set_yticks([y for y in range(0, 101, 10)])\n",
    "ax1.yaxis.set_major_formatter(mtick.PercentFormatter())\n",
    "ax1.set_xlabel(\"Epoch\")\n",
    "ax1.set_ylabel(\"Accuracy(%)\")\n",
    "ax1.legend(['train', 'val'])\n",
    "\n",
    "plt.show()"
   ],
   "metadata": {
    "collapsed": false
   }
  },
  {
   "cell_type": "code",
   "execution_count": null,
   "outputs": [],
   "source": [],
   "metadata": {
    "collapsed": false
   }
  }
 ],
 "metadata": {
  "kernelspec": {
   "display_name": "Python 3",
   "language": "python",
   "name": "python3"
  },
  "language_info": {
   "codemirror_mode": {
    "name": "ipython",
    "version": 2
   },
   "file_extension": ".py",
   "mimetype": "text/x-python",
   "name": "python",
   "nbconvert_exporter": "python",
   "pygments_lexer": "ipython2",
   "version": "2.7.6"
  }
 },
 "nbformat": 4,
 "nbformat_minor": 0
}
