{
 "cells": [
  {
   "cell_type": "code",
   "execution_count": 5,
   "outputs": [],
   "source": [
    "from Dataset import *\n",
    "from base_mutators import *\n",
    "from operators import *\n",
    "from binary_classifier.utils import *\n",
    "\n",
    "misspellings = loadJSONWordDictionary(\"../mutation_miniframework/mutation_data/misspellings.json\")\n",
    "antonyms = loadJSONWordDictionary(\"../mutation_miniframework/mutation_data/antonyms.json\")\n",
    "synonyms = loadJSONWordDictionary(\"../mutation_miniframework/mutation_data/misspellings.json\")\n",
    "randomList = []\n",
    "with open(\"../mutation_miniframework/mutation_data/random_word.json\") as randomJSON:\n",
    "    randomBuffer = dict(json.load(randomJSON))\n",
    "    randomList = randomBuffer[\"word\"]"
   ],
   "metadata": {
    "collapsed": false
   }
  },
  {
   "cell_type": "code",
   "execution_count": 7,
   "outputs": [],
   "source": [
    "from Dataset import *\n",
    "with open(\"./humanCOCOSmall.json\", \"r\") as f:\n",
    "    data = dict(json.load(f))\n",
    "    dataset = Dataset(data, [\"showcase\"])\n",
    "    dataset.setRootDir(\"./mutations/\")\n",
    "    wordsList = {\n",
    "        \"tree\": \"tre3\",\n",
    "        \"food\": \"fo@d\",\n",
    "        \"of\" : \"0f\"\n",
    "    }\n",
    "    replaceFromDictionary(dataset, wordsList, word_change_limit=1)\n",
    "    dataset.saveToFile()"
   ],
   "metadata": {
    "collapsed": false
   }
  },
  {
   "cell_type": "code",
   "execution_count": 2,
   "outputs": [],
   "source": [
    "from Dataset import *\n",
    "with open(\"Test_HumanFullSet.json\", \"r\") as f:\n",
    "    data = dict(json.load(f))\n",
    "    dataset = Dataset(data, [\"Test_MutationFullSetReplaceAE\"])\n",
    "    dataset.setRootDir(\"./mutations/\")\n",
    "    replaceLetters(dataset, {\n",
    "        \"a\": \"α\",\n",
    "        \"e\": \"ε\"\n",
    "    }, \"\", word_change_limit=3)\n",
    "    dataset.saveToFile()"
   ],
   "metadata": {
    "collapsed": false
   }
  },
  {
   "cell_type": "code",
   "execution_count": 3,
   "outputs": [],
   "source": [
    "from Dataset import *\n",
    "with open(\"Test_HumanFullSet.json\", \"r\") as f:\n",
    "    data = dict(json.load(f))\n",
    "    dataset = Dataset(data, [\"Test_MutationFullSetDeleteArticles\"])\n",
    "    dataset.setRootDir(\"./mutations/\")\n",
    "    deleteRandomArticle(dataset, [\" a \", \" an \", \" the \", \" is \"], \"\", word_change_limit=3)\n",
    "    dataset.saveToFile()"
   ],
   "metadata": {
    "collapsed": false
   }
  },
  {
   "cell_type": "code",
   "execution_count": 10,
   "outputs": [],
   "source": [
    "from Dataset import *\n",
    "with open(\"Test_HumanFullSet.json\", \"r\") as f:\n",
    "    data = dict(json.load(f))\n",
    "    dataset = Dataset(data, [\"Test_MutationFullSetMisspellings\"])\n",
    "    dataset.setRootDir(\"./mutations/\")\n",
    "    replaceFromDictionary(dataset, misspellings, \"\", word_change_limit=3)\n",
    "    dataset.saveToFile()\n",
    "\n",
    "with open(\"Test_HumanFullSet.json\", \"r\") as f:\n",
    "    data = dict(json.load(f))\n",
    "    dataset = Dataset(data, [\"Test_MutationFullReplaceAntonyms\"])\n",
    "    dataset.setRootDir(\"./mutations/\")\n",
    "    replaceFromDictionary(dataset, antonyms, \"\", word_change_limit=2)\n",
    "    dataset.saveToFile()"
   ],
   "metadata": {
    "collapsed": false
   }
  },
  {
   "cell_type": "code",
   "execution_count": 8,
   "outputs": [],
   "source": [
    "from Dataset import *\n",
    "with open(\"Test_HumanFullSet.json\", \"r\") as f:\n",
    "    data = dict(json.load(f))\n",
    "    dataset = Dataset(data, [\"Test_MutationFullReplaceRandomWords\"])\n",
    "    dataset.setRootDir(\"./mutations/\")\n",
    "    replaceWordListWithRandomSelf(dataset, randomList, \"\", word_change_limit=2)\n",
    "    dataset.saveToFile()"
   ],
   "metadata": {
    "collapsed": false
   }
  },
  {
   "cell_type": "code",
   "execution_count": 9,
   "outputs": [],
   "source": [
    "from Dataset import *\n",
    "with open(\"Test_HumanFullSet.json\", \"r\") as f:\n",
    "    data = dict(json.load(f))\n",
    "    dataset = Dataset(data, [\"Test_MutationFullReplaceSynonyms\"])\n",
    "    dataset.setRootDir(\"./mutations/\")\n",
    "    replaceFromDictionary(dataset, synonyms, \"\", word_change_limit=2)\n",
    "    dataset.saveToFile()"
   ],
   "metadata": {
    "collapsed": false
   }
  },
  {
   "cell_type": "code",
   "execution_count": null,
   "outputs": [],
   "source": [
    "from Dataset import *\n",
    "with open(\"Test_HumanFullSet.json\", \"r\") as f:\n",
    "    data = dict(json.load(f))\n",
    "    dataset = Dataset(data, [\"Test_MutationFullReplaceAntonyms\"])\n",
    "    dataset.setRootDir(\"./mutations/\")\n",
    "    replaceFromDictionary(dataset, antonyms, \"\", word_change_limit=2)\n",
    "    dataset.saveToFile()"
   ],
   "metadata": {
    "collapsed": false
   }
  },
  {
   "cell_type": "code",
   "execution_count": 12,
   "outputs": [],
   "source": [
    "# populateRandomWord(1000)"
   ],
   "metadata": {
    "collapsed": false
   }
  },
  {
   "cell_type": "code",
   "execution_count": 3,
   "outputs": [],
   "source": [
    "import json\n",
    "def populateSynonymsAPI(lower:int, higher:int):\n",
    "    with open(\"mutation_data/random_word.json\") as f:\n",
    "        data = dict(json.load(f))\n",
    "        for i in range(lower, higher):\n",
    "            getSynonymAPI(data[\"word\"][i])\n",
    "\n",
    "def populateAntonymsAPI(lower:int, higher:int):\n",
    "    with open(\"mutation_data/random_word.json\") as f:\n",
    "        data = dict(json.load(f))\n",
    "        for i in range(lower, higher):\n",
    "            getAntonymAPI(data[\"word\"][i])"
   ],
   "metadata": {
    "collapsed": false
   }
  },
  {
   "cell_type": "code",
   "execution_count": 4,
   "outputs": [],
   "source": [
    "# populateSynonymsAPI(0, 900)##\n",
    "# populateSynonymsAPI(900, 3000) ##\n",
    "# populateAntonymsAPI(0, 900)##\n",
    "# populateAntonymsAPI(900, 3000) ##"
   ],
   "metadata": {
    "collapsed": false
   }
  },
  {
   "cell_type": "code",
   "execution_count": null,
   "outputs": [],
   "source": [],
   "metadata": {
    "collapsed": false
   }
  },
  {
   "cell_type": "code",
   "execution_count": null,
   "outputs": [],
   "source": [],
   "metadata": {
    "collapsed": false
   }
  }
 ],
 "metadata": {
  "kernelspec": {
   "display_name": "Python 3",
   "language": "python",
   "name": "python3"
  },
  "language_info": {
   "codemirror_mode": {
    "name": "ipython",
    "version": 2
   },
   "file_extension": ".py",
   "mimetype": "text/x-python",
   "name": "python",
   "nbconvert_exporter": "python",
   "pygments_lexer": "ipython2",
   "version": "2.7.6"
  }
 },
 "nbformat": 4,
 "nbformat_minor": 0
}
