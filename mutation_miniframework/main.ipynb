{
 "cells": [
  {
   "cell_type": "code",
   "execution_count": 1,
   "outputs": [],
   "source": [
    "from Dataset import *\n",
    "from base_mutators import *\n",
    "from operators import *\n",
    "from utils import *\n",
    "from Dataset import *\n",
    "\n",
    "misspellings = loadJSONWordDictionary(\"../mutation_miniframework/mutation_data/misspellings.json\")\n",
    "antonyms = loadJSONWordDictionary(\"../mutation_miniframework/mutation_data/antonyms.json\")\n",
    "synonyms = loadJSONWordDictionary(\"../mutation_miniframework/mutation_data/misspellings.json\")\n",
    "randomList = []\n",
    "with open(\"../mutation_miniframework/mutation_data/random_word.json\") as randomJSON:\n",
    "    randomBuffer = dict(json.load(randomJSON))\n",
    "    randomList = randomBuffer[\"word\"]"
   ],
   "metadata": {
    "collapsed": false
   }
  },
  {
   "cell_type": "code",
   "execution_count": 2,
   "outputs": [
    {
     "name": "stdout",
     "output_type": "stream",
     "text": [
      "Creating Human Val\n",
      "Creating Human Test\n",
      "Creating Synthetic Val\n",
      "Creating Synthetic Test\n",
      "Combining Val files as Human\n",
      "Combining Test files as Human\n",
      "Combining Val files as Synthetic\n",
      "Combining Test files as Synthetic\n"
     ]
    }
   ],
   "source": [
    "for cat in [\"Human\", \"Synthetic\"]:\n",
    "    for prefix in [\"Val\", \"Test\"]:\n",
    "        print(f'Creating {cat} {prefix}')\n",
    "        with open(f'{prefix}_Wiki{cat}.json', \"r\") as f:\n",
    "            data = dict(json.load(f))\n",
    "            dataset = Dataset(data, [f'{prefix}_Wiki{cat}MutationFullSetReplaceAE'])\n",
    "            dataset.setRootDir(\"./mutations/\")\n",
    "            replaceLetters(dataset, {\n",
    "                \"a\": \"α\",\n",
    "                \"e\": \"ε\"\n",
    "            }, \"\", word_change_limit=6)\n",
    "            dataset.saveToFile()\n",
    "        with open(f'{prefix}_Wiki{cat}.json', \"r\") as f:\n",
    "            data = dict(json.load(f))\n",
    "            dataset = Dataset(data, [f'{prefix}_Wiki{cat}MutationFullSetDeleteArticles'])\n",
    "            dataset.setRootDir(\"./mutations/\")\n",
    "            deleteRandomArticle(dataset, [\" a \", \" an \", \" the \"], \"\", word_change_limit=6)\n",
    "            dataset.saveToFile()\n",
    "        with open(f'{prefix}_Wiki{cat}.json', \"r\") as f:\n",
    "            data = dict(json.load(f))\n",
    "            dataset = Dataset(data, [f'{prefix}_Wiki{cat}MutationFullSetMisspellings'])\n",
    "            dataset.setRootDir(\"./mutations/\")\n",
    "            replaceFromDictionary(dataset, misspellings, \"\", word_change_limit=5)\n",
    "            dataset.saveToFile()\n",
    "        with open(f'{prefix}_Wiki{cat}.json', \"r\") as f:\n",
    "            data = dict(json.load(f))\n",
    "            dataset = Dataset(data, [f'{prefix}_Wiki{cat}MutationFullReplaceAntonyms'])\n",
    "            dataset.setRootDir(\"./mutations/\")\n",
    "            replaceFromDictionary(dataset, antonyms, \"\", word_change_limit=5)\n",
    "            dataset.saveToFile()\n",
    "        with open(f'{prefix}_Wiki{cat}.json', \"r\") as f:\n",
    "            data = dict(json.load(f))\n",
    "            dataset = Dataset(data, [f'{prefix}_Wiki{cat}MutationFullReplaceRandomWords'])\n",
    "            dataset.setRootDir(\"./mutations/\")\n",
    "            replaceWordListWithRandomSelf(dataset, randomList, \"\", word_change_limit=5)\n",
    "            dataset.saveToFile()\n",
    "        with open(f'{prefix}_Wiki{cat}.json', \"r\") as f:\n",
    "            data = dict(json.load(f))\n",
    "            dataset = Dataset(data, [f'{prefix}_Wiki{cat}MutationFullReplaceSynonyms'])\n",
    "            dataset.setRootDir(\"./mutations/\")\n",
    "            replaceFromDictionary(dataset, synonyms, \"\", word_change_limit=5)\n",
    "            dataset.saveToFile()\n",
    "        with open(f'{prefix}_Wiki{cat}.json', \"r\") as f:\n",
    "            data = dict(json.load(f))\n",
    "            dataset = Dataset(data, [f'{prefix}_Wiki{cat}MutationFullReplaceAntonyms'])\n",
    "            dataset.setRootDir(\"./mutations/\")\n",
    "            replaceFromDictionary(dataset, antonyms, \"\", word_change_limit=5)\n",
    "            dataset.saveToFile()\n",
    "for cat in [\"Human\", \"Synthetic\"]:\n",
    "    for prefix in [\"Val\", \"Test\"]:\n",
    "        print(f'Combining {prefix} files as {cat}')\n",
    "        file_names = [\n",
    "            f'{prefix}_Wiki{cat}MutationFullReplaceAntonyms.json',\n",
    "            f'{prefix}_Wiki{cat}MutationFullReplaceSynonyms.json',\n",
    "            f'{prefix}_Wiki{cat}MutationFullReplaceRandomWords.json',\n",
    "            f'{prefix}_Wiki{cat}MutationFullReplaceAntonyms.json',\n",
    "            f'{prefix}_Wiki{cat}MutationFullSetMisspellings.json',\n",
    "            f'{prefix}_Wiki{cat}MutationFullSetDeleteArticles.json',\n",
    "            f'{prefix}_Wiki{cat}MutationFullSetReplaceAE.json'\n",
    "        ]\n",
    "        files = []\n",
    "        for name in file_names:\n",
    "            files.append(open(\"mutations/\" + name, \"r\"))\n",
    "\n",
    "        import json\n",
    "        json_structures = []\n",
    "        for file in files:\n",
    "            json_structures.append(dict(json.load(file)))\n",
    "\n",
    "        output = {}\n",
    "        keys = json_structures[0].keys()\n",
    "        for i, key in enumerate(keys):\n",
    "            output[key] = json_structures[i % len(file_names)][key]\n",
    "        with open(f'mutations/{prefix}_Wiki{cat}MutationFullSet.json', \"w\") as outfile:\n",
    "            json.dump(output, outfile)\n",
    "\n",
    "        output = {}\n",
    "        keys = list(json_structures[0].keys())\n",
    "        for i, key in enumerate(keys[:(int(len(keys)*0.25))]):\n",
    "            output[key] = json_structures[i % len(file_names)][key]\n",
    "        with open(f'mutations/{prefix}_Wiki{cat}MutationQuarterSet.json', \"w\") as outfile:\n",
    "            json.dump(output, outfile)\n"
   ],
   "metadata": {
    "collapsed": false
   }
  },
  {
   "cell_type": "code",
   "execution_count": 8,
   "outputs": [],
   "source": [
    "for cat in [\"Human\", \"Synthetic\"]:\n",
    "    for prefix in [\"Val\", \"Test\"]:\n",
    "        file_names = [\n",
    "            f'{prefix}_Wiki{cat}MutationFullReplaceAntonyms.json',\n",
    "            f'{prefix}_Wiki{cat}MutationFullReplaceSynonyms.json',\n",
    "            f'{prefix}_Wiki{cat}MutationFullReplaceRandomWords.json',\n",
    "            f'{prefix}_Wiki{cat}MutationFullReplaceAntonyms.json',\n",
    "            f'{prefix}_Wiki{cat}MutationFullSetMisspellings.json',\n",
    "            f'{prefix}_Wiki{cat}MutationFullSetDeleteArticles.json',\n",
    "            f'{prefix}_Wiki{cat}MutationFullSetReplaceAE.json'\n",
    "        ]\n",
    "        files = []\n",
    "        for name in file_names:\n",
    "            files.append(open(\"mutations/\" + name, \"r\"))\n",
    "\n",
    "        import json\n",
    "        json_structures = []\n",
    "        for file in files:\n",
    "            json_structures.append(dict(json.load(file)))\n",
    "\n",
    "        output = {}\n",
    "        keys = json_structures[0].keys()\n",
    "        for i, key in enumerate(keys):\n",
    "            output[key] = json_structures[i % len(file_names)][key]\n",
    "        with open(f'mutations/{prefix}_Wiki{cat}MutationFullSet.json', \"w\") as outfile:\n",
    "            json.dump(output, outfile)\n",
    "\n",
    "        output = {}\n",
    "        keys = list(json_structures[0].keys())\n",
    "        for i, key in enumerate(keys[:(int(len(keys)*0.25))]):\n",
    "            output[key] = json_structures[i % len(file_names)][key]\n",
    "        with open(f'mutations/{prefix}_Wiki{cat}MutationQuarterSet.json', \"w\") as outfile:\n",
    "            json.dump(output, outfile)"
   ],
   "metadata": {
    "collapsed": false
   }
  },
  {
   "cell_type": "code",
   "execution_count": 1,
   "outputs": [
    {
     "ename": "NameError",
     "evalue": "name 'deleteRandomArticle' is not defined",
     "output_type": "error",
     "traceback": [
      "\u001B[1;31m---------------------------------------------------------------------------\u001B[0m",
      "\u001B[1;31mNameError\u001B[0m                                 Traceback (most recent call last)",
      "\u001B[1;32m<ipython-input-1-7b07facfbf3d>\u001B[0m in \u001B[0;36m<module>\u001B[1;34m\u001B[0m\n\u001B[0;32m      4\u001B[0m     \u001B[0mdataset\u001B[0m \u001B[1;33m=\u001B[0m \u001B[0mDataset\u001B[0m\u001B[1;33m(\u001B[0m\u001B[0mdata\u001B[0m\u001B[1;33m,\u001B[0m \u001B[1;33m[\u001B[0m\u001B[1;34m\"Train_WikiMutationFullSetDeleteArticles\"\u001B[0m\u001B[1;33m]\u001B[0m\u001B[1;33m)\u001B[0m\u001B[1;33m\u001B[0m\u001B[1;33m\u001B[0m\u001B[0m\n\u001B[0;32m      5\u001B[0m     \u001B[0mdataset\u001B[0m\u001B[1;33m.\u001B[0m\u001B[0msetRootDir\u001B[0m\u001B[1;33m(\u001B[0m\u001B[1;34m\"./mutations/\"\u001B[0m\u001B[1;33m)\u001B[0m\u001B[1;33m\u001B[0m\u001B[1;33m\u001B[0m\u001B[0m\n\u001B[1;32m----> 6\u001B[1;33m     \u001B[0mdeleteRandomArticle\u001B[0m\u001B[1;33m(\u001B[0m\u001B[0mdataset\u001B[0m\u001B[1;33m,\u001B[0m \u001B[1;33m[\u001B[0m\u001B[1;34m\" a \"\u001B[0m\u001B[1;33m,\u001B[0m \u001B[1;34m\" an \"\u001B[0m\u001B[1;33m,\u001B[0m \u001B[1;34m\" the \"\u001B[0m\u001B[1;33m]\u001B[0m\u001B[1;33m,\u001B[0m \u001B[1;34m\"\"\u001B[0m\u001B[1;33m,\u001B[0m \u001B[0mword_change_limit\u001B[0m\u001B[1;33m=\u001B[0m\u001B[1;36m3\u001B[0m\u001B[1;33m)\u001B[0m\u001B[1;33m\u001B[0m\u001B[1;33m\u001B[0m\u001B[0m\n\u001B[0m\u001B[0;32m      7\u001B[0m     \u001B[0mdataset\u001B[0m\u001B[1;33m.\u001B[0m\u001B[0msaveToFile\u001B[0m\u001B[1;33m(\u001B[0m\u001B[1;33m)\u001B[0m\u001B[1;33m\u001B[0m\u001B[1;33m\u001B[0m\u001B[0m\n\u001B[0;32m      8\u001B[0m \u001B[1;32mwith\u001B[0m \u001B[0mopen\u001B[0m\u001B[1;33m(\u001B[0m\u001B[1;34m\"Train_WikiHuman.json\"\u001B[0m\u001B[1;33m,\u001B[0m \u001B[1;34m\"r\"\u001B[0m\u001B[1;33m)\u001B[0m \u001B[1;32mas\u001B[0m \u001B[0mf\u001B[0m\u001B[1;33m:\u001B[0m\u001B[1;33m\u001B[0m\u001B[1;33m\u001B[0m\u001B[0m\n",
      "\u001B[1;31mNameError\u001B[0m: name 'deleteRandomArticle' is not defined"
     ]
    }
   ],
   "source": [
    "from Dataset import *\n"
   ],
   "metadata": {
    "collapsed": false
   }
  },
  {
   "cell_type": "code",
   "execution_count": 5,
   "outputs": [],
   "source": [
    "from Dataset import *\n"
   ],
   "metadata": {
    "collapsed": false
   }
  },
  {
   "cell_type": "code",
   "execution_count": 6,
   "outputs": [],
   "source": [
    "from Dataset import *\n"
   ],
   "metadata": {
    "collapsed": false
   }
  },
  {
   "cell_type": "code",
   "execution_count": 7,
   "outputs": [],
   "source": [
    "from Dataset import *\n"
   ],
   "metadata": {
    "collapsed": false
   }
  },
  {
   "cell_type": "code",
   "execution_count": null,
   "outputs": [],
   "source": [
    "from Dataset import *\n"
   ],
   "metadata": {
    "collapsed": false
   }
  },
  {
   "cell_type": "code",
   "execution_count": 12,
   "outputs": [],
   "source": [
    "# populateRandomWord(1000)"
   ],
   "metadata": {
    "collapsed": false
   }
  },
  {
   "cell_type": "code",
   "execution_count": 3,
   "outputs": [],
   "source": [
    "import json\n",
    "def populateSynonymsAPI(lower:int, higher:int):\n",
    "    with open(\"mutation_data/random_word.json\") as f:\n",
    "        data = dict(json.load(f))\n",
    "        for i in range(lower, higher):\n",
    "            getSynonymAPI(data[\"word\"][i])\n",
    "\n",
    "def populateAntonymsAPI(lower:int, higher:int):\n",
    "    with open(\"mutation_data/random_word.json\") as f:\n",
    "        data = dict(json.load(f))\n",
    "        for i in range(lower, higher):\n",
    "            getAntonymAPI(data[\"word\"][i])"
   ],
   "metadata": {
    "collapsed": false
   }
  },
  {
   "cell_type": "code",
   "execution_count": 4,
   "outputs": [],
   "source": [
    "# populateSynonymsAPI(0, 900)##\n",
    "# populateSynonymsAPI(900, 3000) ##\n",
    "# populateAntonymsAPI(0, 900)##\n",
    "# populateAntonymsAPI(900, 3000) ##"
   ],
   "metadata": {
    "collapsed": false
   }
  },
  {
   "cell_type": "code",
   "execution_count": null,
   "outputs": [],
   "source": [],
   "metadata": {
    "collapsed": false
   }
  },
  {
   "cell_type": "code",
   "execution_count": null,
   "outputs": [],
   "source": [],
   "metadata": {
    "collapsed": false
   }
  },
  {
   "cell_type": "code",
   "execution_count": 7,
   "outputs": [],
   "source": [
    "from Dataset import *\n",
    "with open(\"./humanCOCOSmall.json\", \"r\") as f:\n",
    "    data = dict(json.load(f))\n",
    "    dataset = Dataset(data, [\"showcase\"])\n",
    "    dataset.setRootDir(\"./mutations/\")\n",
    "    wordsList = {\n",
    "        \"tree\": \"tre3\",\n",
    "        \"food\": \"fo@d\",\n",
    "        \"of\" : \"0f\"\n",
    "    }\n",
    "    replaceFromDictionary(dataset, wordsList, word_change_limit=1)\n",
    "    dataset.saveToFile()"
   ],
   "metadata": {
    "collapsed": false
   }
  }
 ],
 "metadata": {
  "kernelspec": {
   "display_name": "Python 3",
   "language": "python",
   "name": "python3"
  },
  "language_info": {
   "codemirror_mode": {
    "name": "ipython",
    "version": 2
   },
   "file_extension": ".py",
   "mimetype": "text/x-python",
   "name": "python",
   "nbconvert_exporter": "python",
   "pygments_lexer": "ipython2",
   "version": "2.7.6"
  }
 },
 "nbformat": 4,
 "nbformat_minor": 0
}
